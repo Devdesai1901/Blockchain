{
 "cells": [
  {
   "cell_type": "code",
   "execution_count": 1,
   "id": "e6f5a7e5",
   "metadata": {},
   "outputs": [],
   "source": [
    "import winsound\n",
    "import tkinter as tk\n",
    "import cv2\n",
    "import numpy as np\n",
    "from PIL import Image , ImageTk\n",
    "import vlc\n",
    "import customtkinter as ctk"
   ]
  },
  {
   "cell_type": "code",
   "execution_count": 2,
   "id": "480c901c",
   "metadata": {},
   "outputs": [
    {
     "name": "stdout",
     "output_type": "stream",
     "text": [
      "Requirement already satisfied: python-vlc in c:\\users\\vipanshu\\anaconda3\\lib\\site-packages (3.0.18122)\n",
      "Note: you may need to restart the kernel to use updated packages.\n"
     ]
    }
   ],
   "source": [
    "pip install python-vlc"
   ]
  },
  {
   "cell_type": "code",
   "execution_count": 3,
   "id": "48389113",
   "metadata": {},
   "outputs": [],
   "source": [
    "app=tk.Tk()\n",
    "app.geometry(\"600x600\")\n",
    "app.title(\"Drowsy boi app\")\n",
    "vidFrame= tk.Frame(height=600,width=600)\n",
    "vidFrame.pack()\n",
    "vid=ctk.CTkLabel(vidFrame)\n",
    "vid.pack()"
   ]
  },
  {
   "cell_type": "code",
   "execution_count": 4,
   "id": "0226ffa9",
   "metadata": {},
   "outputs": [
    {
     "name": "stdout",
     "output_type": "stream",
     "text": [
      "Requirement already satisfied: customtkinter in c:\\users\\vipanshu\\anaconda3\\lib\\site-packages (5.1.2)\n",
      "Requirement already satisfied: darkdetect in c:\\users\\vipanshu\\anaconda3\\lib\\site-packages (from customtkinter) (0.8.0)\n",
      "Note: you may need to restart the kernel to use updated packages.\n"
     ]
    }
   ],
   "source": [
    "pip install customtkinter"
   ]
  },
  {
   "cell_type": "code",
   "execution_count": 5,
   "id": "60292e6f",
   "metadata": {},
   "outputs": [
    {
     "name": "stderr",
     "output_type": "stream",
     "text": [
      "fatal: destination path 'yolov5' already exists and is not an empty directory.\n"
     ]
    },
    {
     "name": "stdout",
     "output_type": "stream",
     "text": [
      "Requirement already satisfied: gitpython>=3.1.30 in c:\\users\\vipanshu\\anaconda3\\lib\\site-packages (from -r requirements.txt (line 7)) (3.1.31)\n",
      "Requirement already satisfied: matplotlib>=3.3 in c:\\users\\vipanshu\\anaconda3\\lib\\site-packages (from -r requirements.txt (line 8)) (3.5.2)\n",
      "Requirement already satisfied: numpy>=1.18.5 in c:\\users\\vipanshu\\anaconda3\\lib\\site-packages (from -r requirements.txt (line 9)) (1.21.6)\n",
      "Requirement already satisfied: opencv-python>=4.1.1 in c:\\users\\vipanshu\\anaconda3\\lib\\site-packages (from -r requirements.txt (line 10)) (4.7.0.72)\n",
      "Requirement already satisfied: Pillow>=7.1.2 in c:\\users\\vipanshu\\anaconda3\\lib\\site-packages (from -r requirements.txt (line 11)) (9.2.0)\n",
      "Requirement already satisfied: psutil in c:\\users\\vipanshu\\anaconda3\\lib\\site-packages (from -r requirements.txt (line 12)) (5.9.0)\n",
      "Requirement already satisfied: PyYAML>=5.3.1 in c:\\users\\vipanshu\\anaconda3\\lib\\site-packages (from -r requirements.txt (line 13)) (6.0)\n",
      "Requirement already satisfied: requests>=2.23.0 in c:\\users\\vipanshu\\anaconda3\\lib\\site-packages (from -r requirements.txt (line 14)) (2.28.1)\n",
      "Requirement already satisfied: scipy>=1.4.1 in c:\\users\\vipanshu\\anaconda3\\lib\\site-packages (from -r requirements.txt (line 15)) (1.9.1)\n",
      "Requirement already satisfied: thop>=0.1.1 in c:\\users\\vipanshu\\anaconda3\\lib\\site-packages (from -r requirements.txt (line 16)) (0.1.1.post2209072238)\n",
      "Requirement already satisfied: torch>=1.7.0 in c:\\users\\vipanshu\\anaconda3\\lib\\site-packages (from -r requirements.txt (line 17)) (2.1.0.dev20230408+cu118)\n",
      "Requirement already satisfied: torchvision>=0.8.1 in c:\\users\\vipanshu\\anaconda3\\lib\\site-packages (from -r requirements.txt (line 18)) (0.16.0.dev20230409+cu118)\n",
      "Requirement already satisfied: tqdm>=4.64.0 in c:\\users\\vipanshu\\anaconda3\\lib\\site-packages (from -r requirements.txt (line 19)) (4.64.1)\n",
      "Requirement already satisfied: pandas>=1.1.4 in c:\\users\\vipanshu\\anaconda3\\lib\\site-packages (from -r requirements.txt (line 28)) (1.4.4)\n",
      "Requirement already satisfied: seaborn>=0.11.0 in c:\\users\\vipanshu\\anaconda3\\lib\\site-packages (from -r requirements.txt (line 29)) (0.11.2)\n",
      "Requirement already satisfied: setuptools>=65.5.1 in c:\\users\\vipanshu\\anaconda3\\lib\\site-packages (from -r requirements.txt (line 43)) (67.7.1)\n",
      "Requirement already satisfied: gitdb<5,>=4.0.1 in c:\\users\\vipanshu\\anaconda3\\lib\\site-packages (from gitpython>=3.1.30->-r requirements.txt (line 7)) (4.0.10)\n",
      "Requirement already satisfied: python-dateutil>=2.7 in c:\\users\\vipanshu\\anaconda3\\lib\\site-packages (from matplotlib>=3.3->-r requirements.txt (line 8)) (2.8.2)\n",
      "Requirement already satisfied: packaging>=20.0 in c:\\users\\vipanshu\\anaconda3\\lib\\site-packages (from matplotlib>=3.3->-r requirements.txt (line 8)) (21.3)\n",
      "Requirement already satisfied: cycler>=0.10 in c:\\users\\vipanshu\\anaconda3\\lib\\site-packages (from matplotlib>=3.3->-r requirements.txt (line 8)) (0.11.0)\n",
      "Requirement already satisfied: fonttools>=4.22.0 in c:\\users\\vipanshu\\anaconda3\\lib\\site-packages (from matplotlib>=3.3->-r requirements.txt (line 8)) (4.25.0)\n",
      "Requirement already satisfied: pyparsing>=2.2.1 in c:\\users\\vipanshu\\anaconda3\\lib\\site-packages (from matplotlib>=3.3->-r requirements.txt (line 8)) (3.0.9)\n",
      "Requirement already satisfied: kiwisolver>=1.0.1 in c:\\users\\vipanshu\\anaconda3\\lib\\site-packages (from matplotlib>=3.3->-r requirements.txt (line 8)) (1.4.2)\n",
      "Requirement already satisfied: urllib3<1.27,>=1.21.1 in c:\\users\\vipanshu\\anaconda3\\lib\\site-packages (from requests>=2.23.0->-r requirements.txt (line 14)) (1.26.11)\n",
      "Requirement already satisfied: charset-normalizer<3,>=2 in c:\\users\\vipanshu\\anaconda3\\lib\\site-packages (from requests>=2.23.0->-r requirements.txt (line 14)) (2.0.4)\n",
      "Requirement already satisfied: certifi>=2017.4.17 in c:\\users\\vipanshu\\anaconda3\\lib\\site-packages (from requests>=2.23.0->-r requirements.txt (line 14)) (2022.9.14)\n",
      "Requirement already satisfied: idna<4,>=2.5 in c:\\users\\vipanshu\\anaconda3\\lib\\site-packages (from requests>=2.23.0->-r requirements.txt (line 14)) (3.3)\n",
      "Requirement already satisfied: sympy in c:\\users\\vipanshu\\anaconda3\\lib\\site-packages (from torch>=1.7.0->-r requirements.txt (line 17)) (1.10.1)\n",
      "Requirement already satisfied: networkx in c:\\users\\vipanshu\\anaconda3\\lib\\site-packages (from torch>=1.7.0->-r requirements.txt (line 17)) (2.8.4)\n",
      "Requirement already satisfied: filelock in c:\\users\\vipanshu\\anaconda3\\lib\\site-packages (from torch>=1.7.0->-r requirements.txt (line 17)) (3.6.0)\n",
      "Requirement already satisfied: jinja2 in c:\\users\\vipanshu\\anaconda3\\lib\\site-packages (from torch>=1.7.0->-r requirements.txt (line 17)) (2.11.3)\n",
      "Requirement already satisfied: typing-extensions in c:\\users\\vipanshu\\anaconda3\\lib\\site-packages (from torch>=1.7.0->-r requirements.txt (line 17)) (4.3.0)\n",
      "Requirement already satisfied: colorama in c:\\users\\vipanshu\\anaconda3\\lib\\site-packages (from tqdm>=4.64.0->-r requirements.txt (line 19)) (0.4.6)\n",
      "Requirement already satisfied: pytz>=2020.1 in c:\\users\\vipanshu\\anaconda3\\lib\\site-packages (from pandas>=1.1.4->-r requirements.txt (line 28)) (2022.1)\n",
      "Requirement already satisfied: smmap<6,>=3.0.1 in c:\\users\\vipanshu\\anaconda3\\lib\\site-packages (from gitdb<5,>=4.0.1->gitpython>=3.1.30->-r requirements.txt (line 7)) (5.0.0)\n",
      "Requirement already satisfied: six>=1.5 in c:\\users\\vipanshu\\anaconda3\\lib\\site-packages (from python-dateutil>=2.7->matplotlib>=3.3->-r requirements.txt (line 8)) (1.16.0)\n",
      "Requirement already satisfied: MarkupSafe>=0.23 in c:\\users\\vipanshu\\anaconda3\\lib\\site-packages (from jinja2->torch>=1.7.0->-r requirements.txt (line 17)) (2.0.1)\n",
      "Requirement already satisfied: mpmath>=0.19 in c:\\users\\vipanshu\\anaconda3\\lib\\site-packages (from sympy->torch>=1.7.0->-r requirements.txt (line 17)) (1.2.1)\n"
     ]
    },
    {
     "name": "stderr",
     "output_type": "stream",
     "text": [
      "Downloading: \"https://github.com/ultralytics/yolov5/zipball/master\" to C:\\Users\\VIPANSHU/.cache\\torch\\hub\\master.zip\n"
     ]
    },
    {
     "name": "stdout",
     "output_type": "stream",
     "text": [
      "\u001b[31m\u001b[1mrequirements:\u001b[0m C:\\Users\\VIPANSHU\\.cache\\torch\\hub\\requirements.txt not found, check failed.\n"
     ]
    },
    {
     "name": "stderr",
     "output_type": "stream",
     "text": [
      "YOLOv5  2023-5-8 Python-3.9.13 torch-2.1.0.dev20230408+cu118 CUDA:0 (NVIDIA GeForce GTX 1650, 4096MiB)\n",
      "\n",
      "Fusing layers... \n",
      "Model summary: 157 layers, 7055974 parameters, 0 gradients, 15.9 GFLOPs\n",
      "Adding AutoShape... \n"
     ]
    }
   ],
   "source": [
    "!git clone https://github.com/ultralytics/yolov5\n",
    "!cd yolov5 & pip install -r requirements.txt\n",
    "import torch\n",
    "model = torch.hub.load('ultralytics/yolov5', 'custom', path='yolov5/runs/train/expx/weights/last.pt', force_reload=True)\n"
   ]
  },
  {
   "cell_type": "code",
   "execution_count": 6,
   "id": "377361a6",
   "metadata": {},
   "outputs": [],
   "source": [
    "cap=cv2.VideoCapture(0)\n",
    "def detect():\n",
    "    ret, frame = cap.read()\n",
    "    frame = cv2.cvtColor(frame, cv2.COLOR_BGR2RGB)\n",
    "    results = model(frame)\n",
    "    img=  np.squeeze(results.render())\n",
    "    imgarr = Image.fromarray(frame)\n",
    "    imgtk = ImageTk.PhotoImage(imgarr)\n",
    "    vid.imgtk = imgtk\n",
    "    vid.configure(image=imgtk)\n",
    "    vid.after(10,detect)"
   ]
  },
  {
   "cell_type": "code",
   "execution_count": 7,
   "id": "fc2f787d",
   "metadata": {},
   "outputs": [],
   "source": [
    "detect()\n",
    "app.mainloop()"
   ]
  },
  {
   "cell_type": "code",
   "execution_count": 11,
   "id": "0aae03ed",
   "metadata": {},
   "outputs": [],
   "source": []
  },
  {
   "cell_type": "code",
   "execution_count": null,
   "id": "441c24bf",
   "metadata": {},
   "outputs": [],
   "source": []
  }
 ],
 "metadata": {
  "kernelspec": {
   "display_name": "Python 3 (ipykernel)",
   "language": "python",
   "name": "python3"
  },
  "language_info": {
   "codemirror_mode": {
    "name": "ipython",
    "version": 3
   },
   "file_extension": ".py",
   "mimetype": "text/x-python",
   "name": "python",
   "nbconvert_exporter": "python",
   "pygments_lexer": "ipython3",
   "version": "3.9.13"
  }
 },
 "nbformat": 4,
 "nbformat_minor": 5
}
